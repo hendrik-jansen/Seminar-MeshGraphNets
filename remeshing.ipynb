{
 "cells": [
  {
   "cell_type": "code",
   "execution_count": 70,
   "id": "a6c5d516-e84b-4cc0-b824-60c4c08f657c",
   "metadata": {},
   "outputs": [
    {
     "name": "stderr",
     "output_type": "stream",
     "text": [
      "/tmp/ipykernel_179291/2625543928.py:9: FutureWarning: You are using `torch.load` with `weights_only=False` (the current default value), which uses the default pickle module implicitly. It is possible to construct malicious pickle data which will execute arbitrary code during unpickling (See https://github.com/pytorch/pytorch/blob/main/SECURITY.md#untrusted-models for more details). In a future release, the default value for `weights_only` will be flipped to `True`. This limits the functions that could be executed during unpickling. Arbitrary objects will no longer be allowed to be loaded via this mode unless they are explicitly allowlisted by the user via `torch.serialization.add_safe_globals`. We recommend you start setting `weights_only=True` for any use case where you don't have full control of the loaded file. Please open an issue on GitHub for any issues related to this experimental feature.\n",
      "  dataset = torch.load('meshgraphnets_miniset5traj_vis.pt')\n"
     ]
    }
   ],
   "source": [
    "import torch\n",
    "import torch_geometric\n",
    "import networkx as nx\n",
    "import numpy as np\n",
    "from torch_geometric.nn.conv import MessagePassing\n",
    "from torch_geometric.data import DataLoader\n",
    "\n",
    "\n",
    "dataset = torch.load('meshgraphnets_miniset5traj_vis.pt')"
   ]
  },
  {
   "cell_type": "code",
   "execution_count": 71,
   "id": "cb049834-2f33-4ecd-b9e1-b90d8a590be1",
   "metadata": {},
   "outputs": [
    {
     "name": "stdout",
     "output_type": "stream",
     "text": [
      "torch.Size([1923, 11]) 1923\n"
     ]
    }
   ],
   "source": [
    "print(dataset[0].x.shape, dataset[0].num_nodes)"
   ]
  },
  {
   "cell_type": "code",
   "execution_count": 73,
   "id": "206904d1-f1ad-4431-b2ef-1c0e0a4db8f0",
   "metadata": {},
   "outputs": [
    {
     "name": "stdout",
     "output_type": "stream",
     "text": [
      "tensor([[   1,    4,    7,  ..., 1473, 1486, 1937],\n",
      "        [   0,    3,    6,  ..., 1952, 1952, 1952]])\n",
      "torch.Size([2, 11171])\n",
      "torch.Size([2, 11170])\n",
      "tensor([[  46,   44,   47],\n",
      "        [1953, 1953, 1953]])\n",
      "torch.Size([2, 11173])\n",
      "torch.Size([2, 11172])\n",
      "tensor([[  27,   14,   28],\n",
      "        [1954, 1954, 1954]])\n",
      "torch.Size([2, 11175])\n",
      "torch.Size([2, 11174])\n",
      "tensor([[  43,   41,   42],\n",
      "        [1955, 1955, 1955]])\n",
      "torch.Size([2, 11177])\n",
      "torch.Size([2, 11176])\n",
      "tensor([[  44,   46,   47, 1953],\n",
      "        [1956, 1956, 1956, 1956]])\n",
      "torch.Size([2, 11180])\n",
      "torch.Size([2, 11179])\n",
      "tensor([[  14,   27,   28, 1954],\n",
      "        [1957, 1957, 1957, 1957]])\n",
      "torch.Size([2, 11183])\n",
      "torch.Size([2, 11182])\n",
      "tensor([[  41,   43,   42, 1955],\n",
      "        [1958, 1958, 1958, 1958]])\n"
     ]
    },
    {
     "ename": "IndexError",
     "evalue": "index 1953 is out of bounds for dimension 0 with size 1953",
     "output_type": "error",
     "traceback": [
      "\u001b[0;31m---------------------------------------------------------------------------\u001b[0m",
      "\u001b[0;31mIndexError\u001b[0m                                Traceback (most recent call last)",
      "Cell \u001b[0;32mIn[73], line 9\u001b[0m\n\u001b[1;32m      7\u001b[0m \u001b[38;5;28;01mfor\u001b[39;00m e \u001b[38;5;129;01min\u001b[39;00m \u001b[38;5;28mrange\u001b[39m(graph\u001b[38;5;241m.\u001b[39mnum_edges):\n\u001b[1;32m      8\u001b[0m     i, j \u001b[38;5;241m=\u001b[39m graph\u001b[38;5;241m.\u001b[39medge_index[:,e][\u001b[38;5;241m0\u001b[39m], graph\u001b[38;5;241m.\u001b[39medge_index[:,e][\u001b[38;5;241m1\u001b[39m]\n\u001b[0;32m----> 9\u001b[0m     S_i, S_j \u001b[38;5;241m=\u001b[39m sizing_field[i], \u001b[43msizing_field\u001b[49m\u001b[43m[\u001b[49m\u001b[43mj\u001b[49m\u001b[43m]\u001b[49m\n\u001b[1;32m     10\u001b[0m     u_ij \u001b[38;5;241m=\u001b[39m graph\u001b[38;5;241m.\u001b[39mmesh_pos[i] \u001b[38;5;241m-\u001b[39m graph\u001b[38;5;241m.\u001b[39mmesh_pos[j]\n\u001b[1;32m     11\u001b[0m     S_ij \u001b[38;5;241m=\u001b[39m (S_i \u001b[38;5;241m+\u001b[39m S_j) \u001b[38;5;241m/\u001b[39m \u001b[38;5;241m2\u001b[39m\n",
      "\u001b[0;31mIndexError\u001b[0m: index 1953 is out of bounds for dimension 0 with size 1953"
     ]
    }
   ],
   "source": [
    "graph = dataset[0]\n",
    "# initialize 2x2 sizing field for each node in the graph\n",
    "sizing_field = torch.tensor([[[600,0],[0,600]]] * graph.num_nodes)\n",
    "\n",
    "print(graph.edge_index)\n",
    "\n",
    "for e in range(graph.num_edges):\n",
    "    i, j = graph.edge_index[:,e][0], graph.edge_index[:,e][1]\n",
    "    S_i, S_j = sizing_field[i], sizing_field[j]\n",
    "    u_ij = graph.mesh_pos[i] - graph.mesh_pos[j]\n",
    "    S_ij = (S_i + S_j) / 2\n",
    "    if u_ij.T @ S_ij @ u_ij > 1:\n",
    "        neighbors_i = graph.edge_index[1, graph.edge_index[0] == i]\n",
    "        neighbors_j = graph.edge_index[1, graph.edge_index[0] == j]\n",
    "        neighbors = np.intersect1d(neighbors_i, neighbors_j)\n",
    "\n",
    "        # remove edge\n",
    "        print(graph.edge_index.shape)\n",
    "        graph.edge_index = torch.cat([graph.edge_index[:, :e], \n",
    "                                      graph.edge_index[:, e+1:]], \n",
    "                                      dim=1)\n",
    "        \n",
    "        new_node = graph.x.shape[0]\n",
    "        new_node_x = (graph.x[i] + graph.x[j]) / 2\n",
    "        new_node_mesh_pos = (graph.mesh_pos[i] + graph.mesh_pos[j]) / 2\n",
    "        new_node_p = (graph.p[i] + graph.p[j]) / 2\n",
    "\n",
    "        graph.num_nodes += 1\n",
    "        graph.x = torch.cat([graph.x, new_node_x.unsqueeze(0)])\n",
    "        graph.mesh_pos = torch.cat([graph.mesh_pos, new_node_mesh_pos.unsqueeze(0)])\n",
    "        graph.p = torch.cat([graph.p, new_node_p.unsqueeze(0)])\n",
    "\n",
    "        new_edges = torch.tensor([[i, new_node],\n",
    "                                  [j, new_node]]\n",
    "                                 + [[n, new_node] for n in neighbors]).T\n",
    "        print(new_edges)\n",
    "        graph.edge_index = torch.cat([graph.edge_index, new_edges], dim=1)\n",
    "        graph.num_edges += 2 + len(neighbors)\n",
    "        \n",
    "print('done')\n",
    "        "
   ]
  },
  {
   "cell_type": "code",
   "execution_count": null,
   "id": "ebc0249f-10d7-4197-b8d9-12c8657c7808",
   "metadata": {},
   "outputs": [],
   "source": []
  }
 ],
 "metadata": {
  "kernelspec": {
   "display_name": "Python 3 (ipykernel)",
   "language": "python",
   "name": "python3"
  },
  "language_info": {
   "codemirror_mode": {
    "name": "ipython",
    "version": 3
   },
   "file_extension": ".py",
   "mimetype": "text/x-python",
   "name": "python",
   "nbconvert_exporter": "python",
   "pygments_lexer": "ipython3",
   "version": "3.12.7"
  }
 },
 "nbformat": 4,
 "nbformat_minor": 5
}
